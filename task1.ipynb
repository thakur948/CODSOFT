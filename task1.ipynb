{
 "cells": [
  {
   "cell_type": "code",
   "execution_count": 1,
   "id": "fb189c23-a353-43c3-8ec9-a2356b1c8af4",
   "metadata": {},
   "outputs": [
    {
     "name": "stdout",
     "output_type": "stream",
     "text": [
      "Welcome to the Simple Calculator!\n"
     ]
    },
    {
     "name": "stdin",
     "output_type": "stream",
     "text": [
      "Enter the first number:  40\n",
      "Enter the second number:  40\n"
     ]
    },
    {
     "name": "stdout",
     "output_type": "stream",
     "text": [
      "\n",
      "Choose the operation:\n",
      "1. Addition (+)\n",
      "2. Subtraction (-)\n",
      "3. Multiplication (*)\n",
      "4. Division (/)\n"
     ]
    },
    {
     "name": "stdin",
     "output_type": "stream",
     "text": [
      "Enter your choice (1/2/3/4):  1\n"
     ]
    },
    {
     "name": "stdout",
     "output_type": "stream",
     "text": [
      "\n",
      "Result: 40.0 + 40.0 = 80.0\n"
     ]
    }
   ],
   "source": [
    "# Simple Calculator Program\n",
    "\n",
    "def calculator():\n",
    "    print(\"Welcome to the Simple Calculator!\")\n",
    "    \n",
    "    # Prompt user for input\n",
    "    num1 = float(input(\"Enter the first number: \"))\n",
    "    num2 = float(input(\"Enter the second number: \"))\n",
    "    \n",
    "    print(\"\\nChoose the operation:\")\n",
    "    print(\"1. Addition (+)\")\n",
    "    print(\"2. Subtraction (-)\")\n",
    "    print(\"3. Multiplication (*)\")\n",
    "    print(\"4. Division (/)\")\n",
    "    \n",
    "    operation = input(\"Enter your choice (1/2/3/4): \")\n",
    "\n",
    "    # Perform calculation based on user's choice\n",
    "    if operation == '1':\n",
    "        result = num1 + num2\n",
    "        print(f\"\\nResult: {num1} + {num2} = {result}\")\n",
    "    elif operation == '2':\n",
    "        result = num1 - num2\n",
    "        print(f\"\\nResult: {num1} - {num2} = {result}\")\n",
    "    elif operation == '3':\n",
    "        result = num1 * num2\n",
    "        print(f\"\\nResult: {num1} * {num2} = {result}\")\n",
    "    elif operation == '4':\n",
    "        if num2 != 0:\n",
    "            result = num1 / num2\n",
    "            print(f\"\\nResult: {num1} / {num2} = {result}\")\n",
    "        else:\n",
    "            print(\"\\nError: Division by zero is not allowed.\")\n",
    "    else:\n",
    "        print(\"\\nInvalid operation choice. Please select 1, 2, 3, or 4.\")\n",
    "\n",
    "# Run the calculator\n",
    "calculator()\n"
   ]
  },
  {
   "cell_type": "code",
   "execution_count": null,
   "id": "cac2b479-fd0b-4b74-80e3-23c515eca2fb",
   "metadata": {},
   "outputs": [],
   "source": []
  }
 ],
 "metadata": {
  "kernelspec": {
   "display_name": "Python 3 (ipykernel)",
   "language": "python",
   "name": "python3"
  },
  "language_info": {
   "codemirror_mode": {
    "name": "ipython",
    "version": 3
   },
   "file_extension": ".py",
   "mimetype": "text/x-python",
   "name": "python",
   "nbconvert_exporter": "python",
   "pygments_lexer": "ipython3",
   "version": "3.13.1"
  }
 },
 "nbformat": 4,
 "nbformat_minor": 5
}
