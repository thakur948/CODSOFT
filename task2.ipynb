{
 "cells": [
  {
   "cell_type": "code",
   "execution_count": null,
   "id": "ea09e9f7-9a69-4e21-b4f7-2cab787d4765",
   "metadata": {},
   "outputs": [],
   "source": [
    "import random\n",
    "import string\n",
    "\n",
    "def generate_password(length):\n",
    "    # Define characters to use: letters, digits, and symbols\n",
    "    characters = string.ascii_letters + string.digits + string.punctuation\n",
    "    password = ''.join(random.choice(characters) for _ in range(length))\n",
    "    return password\n",
    "\n",
    "def main():\n",
    "    print(\"Welcome to the Password Generator!\")\n",
    "    \n",
    "    # Prompt user for desired password length\n",
    "    try:\n",
    "        length = int(input(\"Enter the desired password length: \"))\n",
    "        if length <= 0:\n",
    "            print(\"Please enter a positive number.\")\n",
    "            return\n",
    "    except ValueError:\n",
    "        print(\"Invalid input. Please enter a number.\")\n",
    "        return\n",
    "\n",
    "    # Generate and display the password\n",
    "    password = generate_password(length)\n",
    "    print(f\"\\nGenerated Password: {password}\")\n",
    "\n",
    "# Run the main function\n",
    "main()"
   ]
  }
 ],
 "metadata": {
  "kernelspec": {
   "display_name": "Python 3 (ipykernel)",
   "language": "python",
   "name": "python3"
  },
  "language_info": {
   "codemirror_mode": {
    "name": "ipython",
    "version": 3
   },
   "file_extension": ".py",
   "mimetype": "text/x-python",
   "name": "python",
   "nbconvert_exporter": "python",
   "pygments_lexer": "ipython3",
   "version": "3.13.1"
  }
 },
 "nbformat": 4,
 "nbformat_minor": 5
}
